{
  "nbformat": 4,
  "nbformat_minor": 0,
  "metadata": {
    "colab": {
      "name": "Untitled1.ipynb",
      "provenance": [],
      "authorship_tag": "ABX9TyNBJfw+/xsssUSs0ggQEPCv",
      "include_colab_link": true
    },
    "kernelspec": {
      "name": "python3",
      "display_name": "Python 3"
    },
    "language_info": {
      "name": "python"
    }
  },
  "cells": [
    {
      "cell_type": "markdown",
      "metadata": {
        "id": "view-in-github",
        "colab_type": "text"
      },
      "source": [
        "<a href=\"https://colab.research.google.com/github/ashutoshjuvale/Test/blob/master/number_guessing_game.ipynb\" target=\"_parent\"><img src=\"https://colab.research.google.com/assets/colab-badge.svg\" alt=\"Open In Colab\"/></a>"
      ]
    },
    {
      "cell_type": "code",
      "execution_count": 1,
      "metadata": {
        "colab": {
          "base_uri": "https://localhost:8080/"
        },
        "id": "ul5MwE39Eb0R",
        "outputId": "fbdb1707-fa5e-404a-c411-dd0001542f2a"
      },
      "outputs": [
        {
          "output_type": "stream",
          "name": "stdout",
          "text": [
            "62\n",
            "Enter a number guess: 62\n",
            "Just right\n"
          ]
        }
      ],
      "source": [
        "import random\n",
        "\n",
        "def guessing_game():\n",
        "  n = random.randint(0, 100)\n",
        "  print(n)\n",
        "  return n\n",
        "  \n",
        "\n",
        "n = guessing_game()\n",
        "\n",
        "user_guess = int(input('Enter a number guess: '))\n",
        "\n",
        "while(user_guess != n):\n",
        "  if user_guess > n:\n",
        "    print('too High')\n",
        "  else:\n",
        "    print('too Low')\n",
        "  user_guess = int(input('Enter a number guess: '))\n",
        "\n",
        "print('Just right')"
      ]
    }
  ]
}